{
  "nbformat": 4,
  "nbformat_minor": 0,
  "metadata": {
    "colab": {
      "provenance": [],
      "authorship_tag": "ABX9TyNa9Ee8TvybIlWTAarKN7rc",
      "include_colab_link": true
    },
    "kernelspec": {
      "name": "python3",
      "display_name": "Python 3"
    },
    "language_info": {
      "name": "python"
    }
  },
  "cells": [
    {
      "cell_type": "markdown",
      "metadata": {
        "id": "view-in-github",
        "colab_type": "text"
      },
      "source": [
        "<a href=\"https://colab.research.google.com/github/gulsung/VeriBilimi_1/blob/master/Regresyon.ipynb\" target=\"_parent\"><img src=\"https://colab.research.google.com/assets/colab-badge.svg\" alt=\"Open In Colab\"/></a>"
      ]
    },
    {
      "cell_type": "code",
      "execution_count": 28,
      "metadata": {
        "id": "QbkMsrvzvkn2"
      },
      "outputs": [],
      "source": [
        "#Çoklu dogrusal regresyon modeli eğitimi\n",
        "#Kütüphaneyi içe aktar\n",
        "import pandas as pd\n",
        "import numpy as np\n",
        "\n",
        "#Sklearn kütüphanesi içe aktar\n",
        "from sklearn.linear_model import LinearRegression"
      ]
    },
    {
      "cell_type": "code",
      "source": [
        "#veriyi içe aktar \n",
        "df =pd.read_csv(\"coklu_dogrusal_regresyon_veriseti.csv\",sep= \";\")\n",
        "df.head()"
      ],
      "metadata": {
        "colab": {
          "base_uri": "https://localhost:8080/",
          "height": 206
        },
        "id": "adS32ZzlwGVS",
        "outputId": "a7d60669-d8f5-42c0-a3cf-4a000e1c0c56"
      },
      "execution_count": 29,
      "outputs": [
        {
          "output_type": "execute_result",
          "data": {
            "text/plain": [
              "   deneyim  maas  yas\n",
              "0      0.5  2500   22\n",
              "1      0.0  2250   21\n",
              "2      1.0  2750   23\n",
              "3      5.0  8000   25\n",
              "4      8.0  9000   28"
            ],
            "text/html": [
              "\n",
              "  <div id=\"df-f79806e3-92e8-4ed1-a17b-92a1fcd87f0b\">\n",
              "    <div class=\"colab-df-container\">\n",
              "      <div>\n",
              "<style scoped>\n",
              "    .dataframe tbody tr th:only-of-type {\n",
              "        vertical-align: middle;\n",
              "    }\n",
              "\n",
              "    .dataframe tbody tr th {\n",
              "        vertical-align: top;\n",
              "    }\n",
              "\n",
              "    .dataframe thead th {\n",
              "        text-align: right;\n",
              "    }\n",
              "</style>\n",
              "<table border=\"1\" class=\"dataframe\">\n",
              "  <thead>\n",
              "    <tr style=\"text-align: right;\">\n",
              "      <th></th>\n",
              "      <th>deneyim</th>\n",
              "      <th>maas</th>\n",
              "      <th>yas</th>\n",
              "    </tr>\n",
              "  </thead>\n",
              "  <tbody>\n",
              "    <tr>\n",
              "      <th>0</th>\n",
              "      <td>0.5</td>\n",
              "      <td>2500</td>\n",
              "      <td>22</td>\n",
              "    </tr>\n",
              "    <tr>\n",
              "      <th>1</th>\n",
              "      <td>0.0</td>\n",
              "      <td>2250</td>\n",
              "      <td>21</td>\n",
              "    </tr>\n",
              "    <tr>\n",
              "      <th>2</th>\n",
              "      <td>1.0</td>\n",
              "      <td>2750</td>\n",
              "      <td>23</td>\n",
              "    </tr>\n",
              "    <tr>\n",
              "      <th>3</th>\n",
              "      <td>5.0</td>\n",
              "      <td>8000</td>\n",
              "      <td>25</td>\n",
              "    </tr>\n",
              "    <tr>\n",
              "      <th>4</th>\n",
              "      <td>8.0</td>\n",
              "      <td>9000</td>\n",
              "      <td>28</td>\n",
              "    </tr>\n",
              "  </tbody>\n",
              "</table>\n",
              "</div>\n",
              "      <button class=\"colab-df-convert\" onclick=\"convertToInteractive('df-f79806e3-92e8-4ed1-a17b-92a1fcd87f0b')\"\n",
              "              title=\"Convert this dataframe to an interactive table.\"\n",
              "              style=\"display:none;\">\n",
              "        \n",
              "  <svg xmlns=\"http://www.w3.org/2000/svg\" height=\"24px\"viewBox=\"0 0 24 24\"\n",
              "       width=\"24px\">\n",
              "    <path d=\"M0 0h24v24H0V0z\" fill=\"none\"/>\n",
              "    <path d=\"M18.56 5.44l.94 2.06.94-2.06 2.06-.94-2.06-.94-.94-2.06-.94 2.06-2.06.94zm-11 1L8.5 8.5l.94-2.06 2.06-.94-2.06-.94L8.5 2.5l-.94 2.06-2.06.94zm10 10l.94 2.06.94-2.06 2.06-.94-2.06-.94-.94-2.06-.94 2.06-2.06.94z\"/><path d=\"M17.41 7.96l-1.37-1.37c-.4-.4-.92-.59-1.43-.59-.52 0-1.04.2-1.43.59L10.3 9.45l-7.72 7.72c-.78.78-.78 2.05 0 2.83L4 21.41c.39.39.9.59 1.41.59.51 0 1.02-.2 1.41-.59l7.78-7.78 2.81-2.81c.8-.78.8-2.07 0-2.86zM5.41 20L4 18.59l7.72-7.72 1.47 1.35L5.41 20z\"/>\n",
              "  </svg>\n",
              "      </button>\n",
              "      \n",
              "  <style>\n",
              "    .colab-df-container {\n",
              "      display:flex;\n",
              "      flex-wrap:wrap;\n",
              "      gap: 12px;\n",
              "    }\n",
              "\n",
              "    .colab-df-convert {\n",
              "      background-color: #E8F0FE;\n",
              "      border: none;\n",
              "      border-radius: 50%;\n",
              "      cursor: pointer;\n",
              "      display: none;\n",
              "      fill: #1967D2;\n",
              "      height: 32px;\n",
              "      padding: 0 0 0 0;\n",
              "      width: 32px;\n",
              "    }\n",
              "\n",
              "    .colab-df-convert:hover {\n",
              "      background-color: #E2EBFA;\n",
              "      box-shadow: 0px 1px 2px rgba(60, 64, 67, 0.3), 0px 1px 3px 1px rgba(60, 64, 67, 0.15);\n",
              "      fill: #174EA6;\n",
              "    }\n",
              "\n",
              "    [theme=dark] .colab-df-convert {\n",
              "      background-color: #3B4455;\n",
              "      fill: #D2E3FC;\n",
              "    }\n",
              "\n",
              "    [theme=dark] .colab-df-convert:hover {\n",
              "      background-color: #434B5C;\n",
              "      box-shadow: 0px 1px 3px 1px rgba(0, 0, 0, 0.15);\n",
              "      filter: drop-shadow(0px 1px 2px rgba(0, 0, 0, 0.3));\n",
              "      fill: #FFFFFF;\n",
              "    }\n",
              "  </style>\n",
              "\n",
              "      <script>\n",
              "        const buttonEl =\n",
              "          document.querySelector('#df-f79806e3-92e8-4ed1-a17b-92a1fcd87f0b button.colab-df-convert');\n",
              "        buttonEl.style.display =\n",
              "          google.colab.kernel.accessAllowed ? 'block' : 'none';\n",
              "\n",
              "        async function convertToInteractive(key) {\n",
              "          const element = document.querySelector('#df-f79806e3-92e8-4ed1-a17b-92a1fcd87f0b');\n",
              "          const dataTable =\n",
              "            await google.colab.kernel.invokeFunction('convertToInteractive',\n",
              "                                                     [key], {});\n",
              "          if (!dataTable) return;\n",
              "\n",
              "          const docLinkHtml = 'Like what you see? Visit the ' +\n",
              "            '<a target=\"_blank\" href=https://colab.research.google.com/notebooks/data_table.ipynb>data table notebook</a>'\n",
              "            + ' to learn more about interactive tables.';\n",
              "          element.innerHTML = '';\n",
              "          dataTable['output_type'] = 'display_data';\n",
              "          await google.colab.output.renderOutput(dataTable, element);\n",
              "          const docLink = document.createElement('div');\n",
              "          docLink.innerHTML = docLinkHtml;\n",
              "          element.appendChild(docLink);\n",
              "        }\n",
              "      </script>\n",
              "    </div>\n",
              "  </div>\n",
              "  "
            ]
          },
          "metadata": {},
          "execution_count": 29
        }
      ]
    },
    {
      "cell_type": "code",
      "source": [
        "x = df.iloc[:,[0,2]].values #deneyim ve yaşı bağımsız değişkenler olarak alalım\n",
        "x"
      ],
      "metadata": {
        "colab": {
          "base_uri": "https://localhost:8080/"
        },
        "id": "Cst-iRSXwGiN",
        "outputId": "b4e04cb5-7cae-484b-ee14-b587f45afebb"
      },
      "execution_count": 30,
      "outputs": [
        {
          "output_type": "execute_result",
          "data": {
            "text/plain": [
              "array([[ 0.5, 22. ],\n",
              "       [ 0. , 21. ],\n",
              "       [ 1. , 23. ],\n",
              "       [ 5. , 25. ],\n",
              "       [ 8. , 28. ],\n",
              "       [ 4. , 23. ],\n",
              "       [15. , 35. ],\n",
              "       [ 7. , 29. ],\n",
              "       [ 3. , 22. ],\n",
              "       [ 2. , 23. ],\n",
              "       [12. , 32. ],\n",
              "       [10. , 30. ],\n",
              "       [14. , 34. ],\n",
              "       [ 6. , 27. ]])"
            ]
          },
          "metadata": {},
          "execution_count": 30
        }
      ]
    },
    {
      "cell_type": "code",
      "source": [
        "y = df.maas.values.reshape(-1,1) #maas'i ise  bağımlı değişken olarak alalım\n",
        "y"
      ],
      "metadata": {
        "colab": {
          "base_uri": "https://localhost:8080/"
        },
        "id": "cuCisl27wGki",
        "outputId": "cf3e19ca-8f0b-4747-9f8d-464e1ea90d6c"
      },
      "execution_count": 31,
      "outputs": [
        {
          "output_type": "execute_result",
          "data": {
            "text/plain": [
              "array([[ 2500],\n",
              "       [ 2250],\n",
              "       [ 2750],\n",
              "       [ 8000],\n",
              "       [ 9000],\n",
              "       [ 6900],\n",
              "       [20000],\n",
              "       [ 8500],\n",
              "       [ 6000],\n",
              "       [ 3500],\n",
              "       [15000],\n",
              "       [13000],\n",
              "       [18000],\n",
              "       [ 7500]])"
            ]
          },
          "metadata": {},
          "execution_count": 31
        }
      ]
    },
    {
      "cell_type": "code",
      "source": [
        "#Çoklu Doğrusal Regreston Modeli Eğitimi\n",
        "\n",
        "#Çoklu Doğrusal Regreston Modeli\n",
        "coklu_dogrusal_regresyon = LinearRegression()\n",
        "\n",
        "#doğrusal regresyon eğitimi\n",
        "coklu_dogrusal_regresyon.fit(x,y)"
      ],
      "metadata": {
        "colab": {
          "base_uri": "https://localhost:8080/"
        },
        "id": "GXl_-HDNwGmw",
        "outputId": "01be8745-a6c1-40b3-e045-469ccad18ba4"
      },
      "execution_count": 32,
      "outputs": [
        {
          "output_type": "execute_result",
          "data": {
            "text/plain": [
              "LinearRegression()"
            ]
          },
          "metadata": {},
          "execution_count": 32
        }
      ]
    },
    {
      "cell_type": "code",
      "source": [
        "#test 1\n",
        "test_verisi1 = np.array([[10,35]]) #deneyim = 10 ve yaş = 35\n",
        "test_sonucu1 = coklu_dogrusal_regresyon.predict(test_verisi1)\n",
        "print(\"10 yıllık deneyim ve 35 yaş sonucu çıkan maaş: {} TL\".format(test_sonucu1[0]))"
      ],
      "metadata": {
        "colab": {
          "base_uri": "https://localhost:8080/"
        },
        "id": "Y5_Bz-krwGpE",
        "outputId": "56d0f58d-0d68-4d0e-b93e-ea370bacdf44"
      },
      "execution_count": 33,
      "outputs": [
        {
          "output_type": "stream",
          "name": "stdout",
          "text": [
            "10 yıllık deneyim ve 35 yaş sonucu çıkan maaş: [11046.35815877] TL\n"
          ]
        }
      ]
    },
    {
      "cell_type": "code",
      "source": [
        "#test 2\n",
        "test_verisi2 = np.array([[5,35]]) \n",
        "test_sonucu2 = coklu_dogrusal_regresyon.predict(test_verisi2)\n",
        "print(\"5 yıllık deneyim ve 35 yaş sonucu çıkan maaş: {} TL\".format(test_sonucu2[0]))"
      ],
      "metadata": {
        "colab": {
          "base_uri": "https://localhost:8080/"
        },
        "id": "5l4IOub3wGrm",
        "outputId": "40a49188-1674-4ff4-e648-e9c08cc947fa"
      },
      "execution_count": 34,
      "outputs": [
        {
          "output_type": "stream",
          "name": "stdout",
          "text": [
            "5 yıllık deneyim ve 35 yaş sonucu çıkan maaş: [3418.85455609] TL\n"
          ]
        }
      ]
    },
    {
      "cell_type": "code",
      "source": [
        "#Polinomsal regresyon\n",
        "#Kütüphaneyi içe aktar\n",
        "import pandas as pd\n",
        "import matplotlib.pyplot as plt\n",
        "\n",
        "#Sklearn kütüphanesi içe aktar\n",
        "from sklearn.linear_model import LinearRegression #doğrusal\n",
        "from sklearn.preprocessing import PolynomialFeatures #polinomsal"
      ],
      "metadata": {
        "id": "npCBOXzWwGuB"
      },
      "execution_count": 35,
      "outputs": []
    },
    {
      "cell_type": "code",
      "source": [
        "#veriyi içe aktar \n",
        "df =pd.read_csv(\"polinomsal_regresyon_veriseti.csv\",sep= \";\")\n",
        "df.head()"
      ],
      "metadata": {
        "colab": {
          "base_uri": "https://localhost:8080/",
          "height": 206
        },
        "id": "sCfNFiuDy-_E",
        "outputId": "1a0cda44-d484-4682-fd9f-ea36d4546a49"
      },
      "execution_count": 36,
      "outputs": [
        {
          "output_type": "execute_result",
          "data": {
            "text/plain": [
              "   araba_fiyat  araba_max_hiz\n",
              "0           60            180\n",
              "1           70            180\n",
              "2           80            200\n",
              "3          100            200\n",
              "4          120            200"
            ],
            "text/html": [
              "\n",
              "  <div id=\"df-d86cc176-0264-48d1-ae24-8597b43fcc25\">\n",
              "    <div class=\"colab-df-container\">\n",
              "      <div>\n",
              "<style scoped>\n",
              "    .dataframe tbody tr th:only-of-type {\n",
              "        vertical-align: middle;\n",
              "    }\n",
              "\n",
              "    .dataframe tbody tr th {\n",
              "        vertical-align: top;\n",
              "    }\n",
              "\n",
              "    .dataframe thead th {\n",
              "        text-align: right;\n",
              "    }\n",
              "</style>\n",
              "<table border=\"1\" class=\"dataframe\">\n",
              "  <thead>\n",
              "    <tr style=\"text-align: right;\">\n",
              "      <th></th>\n",
              "      <th>araba_fiyat</th>\n",
              "      <th>araba_max_hiz</th>\n",
              "    </tr>\n",
              "  </thead>\n",
              "  <tbody>\n",
              "    <tr>\n",
              "      <th>0</th>\n",
              "      <td>60</td>\n",
              "      <td>180</td>\n",
              "    </tr>\n",
              "    <tr>\n",
              "      <th>1</th>\n",
              "      <td>70</td>\n",
              "      <td>180</td>\n",
              "    </tr>\n",
              "    <tr>\n",
              "      <th>2</th>\n",
              "      <td>80</td>\n",
              "      <td>200</td>\n",
              "    </tr>\n",
              "    <tr>\n",
              "      <th>3</th>\n",
              "      <td>100</td>\n",
              "      <td>200</td>\n",
              "    </tr>\n",
              "    <tr>\n",
              "      <th>4</th>\n",
              "      <td>120</td>\n",
              "      <td>200</td>\n",
              "    </tr>\n",
              "  </tbody>\n",
              "</table>\n",
              "</div>\n",
              "      <button class=\"colab-df-convert\" onclick=\"convertToInteractive('df-d86cc176-0264-48d1-ae24-8597b43fcc25')\"\n",
              "              title=\"Convert this dataframe to an interactive table.\"\n",
              "              style=\"display:none;\">\n",
              "        \n",
              "  <svg xmlns=\"http://www.w3.org/2000/svg\" height=\"24px\"viewBox=\"0 0 24 24\"\n",
              "       width=\"24px\">\n",
              "    <path d=\"M0 0h24v24H0V0z\" fill=\"none\"/>\n",
              "    <path d=\"M18.56 5.44l.94 2.06.94-2.06 2.06-.94-2.06-.94-.94-2.06-.94 2.06-2.06.94zm-11 1L8.5 8.5l.94-2.06 2.06-.94-2.06-.94L8.5 2.5l-.94 2.06-2.06.94zm10 10l.94 2.06.94-2.06 2.06-.94-2.06-.94-.94-2.06-.94 2.06-2.06.94z\"/><path d=\"M17.41 7.96l-1.37-1.37c-.4-.4-.92-.59-1.43-.59-.52 0-1.04.2-1.43.59L10.3 9.45l-7.72 7.72c-.78.78-.78 2.05 0 2.83L4 21.41c.39.39.9.59 1.41.59.51 0 1.02-.2 1.41-.59l7.78-7.78 2.81-2.81c.8-.78.8-2.07 0-2.86zM5.41 20L4 18.59l7.72-7.72 1.47 1.35L5.41 20z\"/>\n",
              "  </svg>\n",
              "      </button>\n",
              "      \n",
              "  <style>\n",
              "    .colab-df-container {\n",
              "      display:flex;\n",
              "      flex-wrap:wrap;\n",
              "      gap: 12px;\n",
              "    }\n",
              "\n",
              "    .colab-df-convert {\n",
              "      background-color: #E8F0FE;\n",
              "      border: none;\n",
              "      border-radius: 50%;\n",
              "      cursor: pointer;\n",
              "      display: none;\n",
              "      fill: #1967D2;\n",
              "      height: 32px;\n",
              "      padding: 0 0 0 0;\n",
              "      width: 32px;\n",
              "    }\n",
              "\n",
              "    .colab-df-convert:hover {\n",
              "      background-color: #E2EBFA;\n",
              "      box-shadow: 0px 1px 2px rgba(60, 64, 67, 0.3), 0px 1px 3px 1px rgba(60, 64, 67, 0.15);\n",
              "      fill: #174EA6;\n",
              "    }\n",
              "\n",
              "    [theme=dark] .colab-df-convert {\n",
              "      background-color: #3B4455;\n",
              "      fill: #D2E3FC;\n",
              "    }\n",
              "\n",
              "    [theme=dark] .colab-df-convert:hover {\n",
              "      background-color: #434B5C;\n",
              "      box-shadow: 0px 1px 3px 1px rgba(0, 0, 0, 0.15);\n",
              "      filter: drop-shadow(0px 1px 2px rgba(0, 0, 0, 0.3));\n",
              "      fill: #FFFFFF;\n",
              "    }\n",
              "  </style>\n",
              "\n",
              "      <script>\n",
              "        const buttonEl =\n",
              "          document.querySelector('#df-d86cc176-0264-48d1-ae24-8597b43fcc25 button.colab-df-convert');\n",
              "        buttonEl.style.display =\n",
              "          google.colab.kernel.accessAllowed ? 'block' : 'none';\n",
              "\n",
              "        async function convertToInteractive(key) {\n",
              "          const element = document.querySelector('#df-d86cc176-0264-48d1-ae24-8597b43fcc25');\n",
              "          const dataTable =\n",
              "            await google.colab.kernel.invokeFunction('convertToInteractive',\n",
              "                                                     [key], {});\n",
              "          if (!dataTable) return;\n",
              "\n",
              "          const docLinkHtml = 'Like what you see? Visit the ' +\n",
              "            '<a target=\"_blank\" href=https://colab.research.google.com/notebooks/data_table.ipynb>data table notebook</a>'\n",
              "            + ' to learn more about interactive tables.';\n",
              "          element.innerHTML = '';\n",
              "          dataTable['output_type'] = 'display_data';\n",
              "          await google.colab.output.renderOutput(dataTable, element);\n",
              "          const docLink = document.createElement('div');\n",
              "          docLink.innerHTML = docLinkHtml;\n",
              "          element.appendChild(docLink);\n",
              "        }\n",
              "      </script>\n",
              "    </div>\n",
              "  </div>\n",
              "  "
            ]
          },
          "metadata": {},
          "execution_count": 36
        }
      ]
    },
    {
      "cell_type": "code",
      "source": [
        "#sklearn input olarak genelde numpy kabul eder\n",
        "y = df.araba_max_hiz.values.reshape(-1,1) #numpy array'e çevir\n",
        "x = df.araba_fiyat.values.reshape(-1,1) #numpy array'e çevir"
      ],
      "metadata": {
        "id": "ZtVauqnUy_xT"
      },
      "execution_count": 37,
      "outputs": []
    },
    {
      "cell_type": "code",
      "source": [
        "#veriyi görselleştir\n",
        "plt.scatter(x,y)\n",
        "plt.ylabel(\"Araba Maksimum Hızı\")\n",
        "plt.xlabel(\"Araba Fiyatı\")\n",
        "plt.title(\"Araba Hız ve Fiyat İlişkisi\")\n",
        "plt.grid(True)\n",
        "plt.show()"
      ],
      "metadata": {
        "colab": {
          "base_uri": "https://localhost:8080/",
          "height": 296
        },
        "id": "kwSlMmQKy_zW",
        "outputId": "aa0974b6-3c38-429b-b5c5-563a370f6265"
      },
      "execution_count": 38,
      "outputs": [
        {
          "output_type": "display_data",
          "data": {
            "text/plain": [
              "<Figure size 432x288 with 1 Axes>"
            ],
            "image/png": "[encoded data removed]"
          },
          "metadata": {
            "needs_background": "light"
          }
        }
      ]
    },
    {
      "cell_type": "code",
      "source": [
        "#Doğrusal Regresyon Modeli Eğitimi\n",
        "lr = LinearRegression()\n",
        "#doğrusal regresyon eğitiöi\n",
        "lr.fit(x,y)"
      ],
      "metadata": {
        "id": "m7WXTXciy_1v",
        "colab": {
          "base_uri": "https://localhost:8080/"
        },
        "outputId": "d7567b09-18cd-410e-ae78-dde8d383bd31"
      },
      "execution_count": 39,
      "outputs": [
        {
          "output_type": "execute_result",
          "data": {
            "text/plain": [
              "LinearRegression()"
            ]
          },
          "metadata": {},
          "execution_count": 39
        }
      ]
    },
    {
      "cell_type": "code",
      "source": [
        "#%% tahmib\n",
        "y_tahmin = lr.predict(x)\n",
        "\n",
        "plt.scatter(x,y)\n",
        "plt.plot(x,y_tahmin,color=\"red\")\n",
        "plt.ylabel(\"Araba Maksimum Hızı\")\n",
        "plt.xlabel(\"Araba Fiyatı\")\n",
        "plt.title(\"Araba Hız ve Fiyat İlişkisi\")\n",
        "plt.grid(True)\n",
        "plt.show()\n",
        "\n",
        "araba_fiyatı = 10000\n",
        "print(\"10 milyon tl lik araba hizi tahmibi: \", lr.predict((np.array([araba_fiyatı]).reshape(1,-1))))\n"
      ],
      "metadata": {
        "id": "6oHOGdK8y_3u",
        "colab": {
          "base_uri": "https://localhost:8080/",
          "height": 313
        },
        "outputId": "d6ed7e2a-688b-415b-e51e-1c8cd370e300"
      },
      "execution_count": 40,
      "outputs": [
        {
          "output_type": "display_data",
          "data": {
            "text/plain": [
              "<Figure size 432x288 with 1 Axes>"
            ],
            "image/png": "[encoded data removed]"
          },
          "metadata": {
            "needs_background": "light"
          }
        },
        {
          "output_type": "stream",
          "name": "stdout",
          "text": [
            "10 milyon tl lik araba hizi tahmibi:  [[871.66401826]]\n"
          ]
        }
      ]
    },
    {
      "cell_type": "code",
      "source": [
        "#polinomsal regresyon = y = b0 + b1*x + b2*x^2 + b3*x^3 + ... + bn*x^n\n",
        "\n",
        "#polinomsal özellikler\n",
        "polinom_regresyon = PolynomialFeatures(degree = 4) #4.dereceden polinom\n",
        "\n",
        "x_polinom = polinom_regresyon.fit_transform(x)\n",
        "x_polinom\n",
        "#çıktılar sırasıyla b0 + b1*x + b2*x^2 + b3*x^3 + ... + bn*x^n -> n=4 için"
      ],
      "metadata": {
        "id": "SwlgrxXSy_5q",
        "colab": {
          "base_uri": "https://localhost:8080/"
        },
        "outputId": "360d1d32-81d1-432c-a1bb-4e286dad0fb6"
      },
      "execution_count": 41,
      "outputs": [
        {
          "output_type": "execute_result",
          "data": {
            "text/plain": [
              "array([[1.0000000e+00, 6.0000000e+01, 3.6000000e+03, 2.1600000e+05,\n",
              "        1.2960000e+07],\n",
              "       [1.0000000e+00, 7.0000000e+01, 4.9000000e+03, 3.4300000e+05,\n",
              "        2.4010000e+07],\n",
              "       [1.0000000e+00, 8.0000000e+01, 6.4000000e+03, 5.1200000e+05,\n",
              "        4.0960000e+07],\n",
              "       [1.0000000e+00, 1.0000000e+02, 1.0000000e+04, 1.0000000e+06,\n",
              "        1.0000000e+08],\n",
              "       [1.0000000e+00, 1.2000000e+02, 1.4400000e+04, 1.7280000e+06,\n",
              "        2.0736000e+08],\n",
              "       [1.0000000e+00, 1.5000000e+02, 2.2500000e+04, 3.3750000e+06,\n",
              "        5.0625000e+08],\n",
              "       [1.0000000e+00, 2.0000000e+02, 4.0000000e+04, 8.0000000e+06,\n",
              "        1.6000000e+09],\n",
              "       [1.0000000e+00, 2.5000000e+02, 6.2500000e+04, 1.5625000e+07,\n",
              "        3.9062500e+09],\n",
              "       [1.0000000e+00, 3.0000000e+02, 9.0000000e+04, 2.7000000e+07,\n",
              "        8.1000000e+09],\n",
              "       [1.0000000e+00, 4.0000000e+02, 1.6000000e+05, 6.4000000e+07,\n",
              "        2.5600000e+10],\n",
              "       [1.0000000e+00, 5.0000000e+02, 2.5000000e+05, 1.2500000e+08,\n",
              "        6.2500000e+10],\n",
              "       [1.0000000e+00, 7.5000000e+02, 5.6250000e+05, 4.2187500e+08,\n",
              "        3.1640625e+11],\n",
              "       [1.0000000e+00, 1.0000000e+03, 1.0000000e+06, 1.0000000e+09,\n",
              "        1.0000000e+12],\n",
              "       [1.0000000e+00, 2.0000000e+03, 4.0000000e+06, 8.0000000e+09,\n",
              "        1.6000000e+13],\n",
              "       [1.0000000e+00, 3.0000000e+03, 9.0000000e+06, 2.7000000e+10,\n",
              "        8.1000000e+13]])"
            ]
          },
          "metadata": {},
          "execution_count": 41
        }
      ]
    },
    {
      "cell_type": "code",
      "source": [
        "# %% polinomsal regresyon eğitebilmek için polinomsal özelllikler ile \n",
        "lr2 = LinearRegression()\n",
        "lr2.fit(x_polinom, y)"
      ],
      "metadata": {
        "id": "uSPtTbXhy_7s",
        "colab": {
          "base_uri": "https://localhost:8080/"
        },
        "outputId": "73b26caf-6c16-45c9-e759-9f7dc584271b"
      },
      "execution_count": 42,
      "outputs": [
        {
          "output_type": "execute_result",
          "data": {
            "text/plain": [
              "LinearRegression()"
            ]
          },
          "metadata": {},
          "execution_count": 42
        }
      ]
    },
    {
      "cell_type": "code",
      "source": [
        "# tahmin\n",
        "y_tahmin2 = lr2.predict(x_polinom)\n",
        "\n",
        "plt.scatter(x,y)\n",
        "plt.plot(x,y_tahmin,color=\"red\", label = \"Doğrusal\")\n",
        "plt.plot(x,y_tahmin2,color=\"green\", label = \"Polinomsal\")\n",
        "plt.legend()\n",
        "plt.ylabel(\"Araba Maksimum Hızı\")\n",
        "plt.xlabel(\"Araba Fiyatı\")\n",
        "plt.ylabel(\"Araba Hız ve Fiyat İlişkisi\")\n",
        "plt.grid(True)\n",
        "plt.show()"
      ],
      "metadata": {
        "id": "wp9MCrFRy_-5",
        "colab": {
          "base_uri": "https://localhost:8080/",
          "height": 279
        },
        "outputId": "cce1fa1b-37e0-43df-d3b4-01a104cd0e86"
      },
      "execution_count": 43,
      "outputs": [
        {
          "output_type": "display_data",
          "data": {
            "text/plain": [
              "<Figure size 432x288 with 1 Axes>"
            ],
            "image/png": "[encoded data removed]"
          },
          "metadata": {
            "needs_background": "light"
          }
        }
      ]
    },
    {
      "cell_type": "code",
      "source": [
        "#Kütüphaneyi içe aktar\n",
        "import pandas as pd\n",
        "import matplotlib.pyplot as plt\n",
        "import numpy as np\n",
        "\n",
        "#Sklearn kütüphanesi içe aktar\n",
        "from sklearn.linear_model import LinearRegression #doğrusal\n",
        "from sklearn.preprocessing import PolynomialFeatures #polinomsal\n",
        "from sklearn.metrics import r2_score #r kare"
      ],
      "metadata": {
        "id": "oOt2T7WNKxyT"
      },
      "execution_count": 44,
      "outputs": []
    },
    {
      "cell_type": "code",
      "source": [
        "#veriyi içe aktar \n",
        "df =pd.read_csv(\"dogrusal_regresyon_veriseti.csv\",sep= \";\")\n",
        "df.head()"
      ],
      "metadata": {
        "colab": {
          "base_uri": "https://localhost:8080/",
          "height": 206
        },
        "id": "xI_mQrlxKx7X",
        "outputId": "e4b43acb-3cd9-4156-bb99-2b4764b2eb98"
      },
      "execution_count": 45,
      "outputs": [
        {
          "output_type": "execute_result",
          "data": {
            "text/plain": [
              "   deneyim  maas\n",
              "0      0.5  2500\n",
              "1      0.0  2250\n",
              "2      1.0  2750\n",
              "3      5.0  8000\n",
              "4      8.0  9000"
            ],
            "text/html": [
              "\n",
              "  <div id=\"df-d95b51ff-e1de-4c27-94c3-a59edbefd899\">\n",
              "    <div class=\"colab-df-container\">\n",
              "      <div>\n",
              "<style scoped>\n",
              "    .dataframe tbody tr th:only-of-type {\n",
              "        vertical-align: middle;\n",
              "    }\n",
              "\n",
              "    .dataframe tbody tr th {\n",
              "        vertical-align: top;\n",
              "    }\n",
              "\n",
              "    .dataframe thead th {\n",
              "        text-align: right;\n",
              "    }\n",
              "</style>\n",
              "<table border=\"1\" class=\"dataframe\">\n",
              "  <thead>\n",
              "    <tr style=\"text-align: right;\">\n",
              "      <th></th>\n",
              "      <th>deneyim</th>\n",
              "      <th>maas</th>\n",
              "    </tr>\n",
              "  </thead>\n",
              "  <tbody>\n",
              "    <tr>\n",
              "      <th>0</th>\n",
              "      <td>0.5</td>\n",
              "      <td>2500</td>\n",
              "    </tr>\n",
              "    <tr>\n",
              "      <th>1</th>\n",
              "      <td>0.0</td>\n",
              "      <td>2250</td>\n",
              "    </tr>\n",
              "    <tr>\n",
              "      <th>2</th>\n",
              "      <td>1.0</td>\n",
              "      <td>2750</td>\n",
              "    </tr>\n",
              "    <tr>\n",
              "      <th>3</th>\n",
              "      <td>5.0</td>\n",
              "      <td>8000</td>\n",
              "    </tr>\n",
              "    <tr>\n",
              "      <th>4</th>\n",
              "      <td>8.0</td>\n",
              "      <td>9000</td>\n",
              "    </tr>\n",
              "  </tbody>\n",
              "</table>\n",
              "</div>\n",
              "      <button class=\"colab-df-convert\" onclick=\"convertToInteractive('df-d95b51ff-e1de-4c27-94c3-a59edbefd899')\"\n",
              "              title=\"Convert this dataframe to an interactive table.\"\n",
              "              style=\"display:none;\">\n",
              "        \n",
              "  <svg xmlns=\"http://www.w3.org/2000/svg\" height=\"24px\"viewBox=\"0 0 24 24\"\n",
              "       width=\"24px\">\n",
              "    <path d=\"M0 0h24v24H0V0z\" fill=\"none\"/>\n",
              "    <path d=\"M18.56 5.44l.94 2.06.94-2.06 2.06-.94-2.06-.94-.94-2.06-.94 2.06-2.06.94zm-11 1L8.5 8.5l.94-2.06 2.06-.94-2.06-.94L8.5 2.5l-.94 2.06-2.06.94zm10 10l.94 2.06.94-2.06 2.06-.94-2.06-.94-.94-2.06-.94 2.06-2.06.94z\"/><path d=\"M17.41 7.96l-1.37-1.37c-.4-.4-.92-.59-1.43-.59-.52 0-1.04.2-1.43.59L10.3 9.45l-7.72 7.72c-.78.78-.78 2.05 0 2.83L4 21.41c.39.39.9.59 1.41.59.51 0 1.02-.2 1.41-.59l7.78-7.78 2.81-2.81c.8-.78.8-2.07 0-2.86zM5.41 20L4 18.59l7.72-7.72 1.47 1.35L5.41 20z\"/>\n",
              "  </svg>\n",
              "      </button>\n",
              "      \n",
              "  <style>\n",
              "    .colab-df-container {\n",
              "      display:flex;\n",
              "      flex-wrap:wrap;\n",
              "      gap: 12px;\n",
              "    }\n",
              "\n",
              "    .colab-df-convert {\n",
              "      background-color: #E8F0FE;\n",
              "      border: none;\n",
              "      border-radius: 50%;\n",
              "      cursor: pointer;\n",
              "      display: none;\n",
              "      fill: #1967D2;\n",
              "      height: 32px;\n",
              "      padding: 0 0 0 0;\n",
              "      width: 32px;\n",
              "    }\n",
              "\n",
              "    .colab-df-convert:hover {\n",
              "      background-color: #E2EBFA;\n",
              "      box-shadow: 0px 1px 2px rgba(60, 64, 67, 0.3), 0px 1px 3px 1px rgba(60, 64, 67, 0.15);\n",
              "      fill: #174EA6;\n",
              "    }\n",
              "\n",
              "    [theme=dark] .colab-df-convert {\n",
              "      background-color: #3B4455;\n",
              "      fill: #D2E3FC;\n",
              "    }\n",
              "\n",
              "    [theme=dark] .colab-df-convert:hover {\n",
              "      background-color: #434B5C;\n",
              "      box-shadow: 0px 1px 3px 1px rgba(0, 0, 0, 0.15);\n",
              "      filter: drop-shadow(0px 1px 2px rgba(0, 0, 0, 0.3));\n",
              "      fill: #FFFFFF;\n",
              "    }\n",
              "  </style>\n",
              "\n",
              "      <script>\n",
              "        const buttonEl =\n",
              "          document.querySelector('#df-d95b51ff-e1de-4c27-94c3-a59edbefd899 button.colab-df-convert');\n",
              "        buttonEl.style.display =\n",
              "          google.colab.kernel.accessAllowed ? 'block' : 'none';\n",
              "\n",
              "        async function convertToInteractive(key) {\n",
              "          const element = document.querySelector('#df-d95b51ff-e1de-4c27-94c3-a59edbefd899');\n",
              "          const dataTable =\n",
              "            await google.colab.kernel.invokeFunction('convertToInteractive',\n",
              "                                                     [key], {});\n",
              "          if (!dataTable) return;\n",
              "\n",
              "          const docLinkHtml = 'Like what you see? Visit the ' +\n",
              "            '<a target=\"_blank\" href=https://colab.research.google.com/notebooks/data_table.ipynb>data table notebook</a>'\n",
              "            + ' to learn more about interactive tables.';\n",
              "          element.innerHTML = '';\n",
              "          dataTable['output_type'] = 'display_data';\n",
              "          await google.colab.output.renderOutput(dataTable, element);\n",
              "          const docLink = document.createElement('div');\n",
              "          docLink.innerHTML = docLinkHtml;\n",
              "          element.appendChild(docLink);\n",
              "        }\n",
              "      </script>\n",
              "    </div>\n",
              "  </div>\n",
              "  "
            ]
          },
          "metadata": {},
          "execution_count": 45
        }
      ]
    },
    {
      "cell_type": "code",
      "source": [
        "#veriyi görselleştir\n",
        "plt.scatter(df.deneyim,df.maas)\n",
        "plt.xlabel(\"Deneyim (Yıl)\")\n",
        "plt.ylabel(\"Maaş (TL)\")\n",
        "plt.title(\"Deneyim Maaş İlişkisi\")\n",
        "plt.grid(True)\n",
        "plt.show()"
      ],
      "metadata": {
        "colab": {
          "base_uri": "https://localhost:8080/",
          "height": 296
        },
        "id": "MAvBqgjkKx9s",
        "outputId": "bb64c33c-d882-4b27-fbfc-131c891da1de"
      },
      "execution_count": 46,
      "outputs": [
        {
          "output_type": "display_data",
          "data": {
            "text/plain": [
              "<Figure size 432x288 with 1 Axes>"
            ],
            "image/png": "[encoded data removed]"
          },
          "metadata": {
            "needs_background": "light"
          }
        }
      ]
    },
    {
      "cell_type": "code",
      "source": [
        "#data içerisinde bulunan maas ve deneyim sütunlarını numpy array'e çevir\n",
        "x = df.deneyim.values.reshape(-1,1)\n",
        "y = df.maas.values.reshape(-1,1)"
      ],
      "metadata": {
        "id": "2WnrHszNKx_4"
      },
      "execution_count": 47,
      "outputs": []
    },
    {
      "cell_type": "code",
      "source": [
        "#Doğrusal Regresyon Modeli Eğitimi\n",
        "#Doğrusal Regresyon Modeli\n",
        "linear_reg = LinearRegression()\n",
        "\n",
        "#doğrusal regresyon eğitimi\n",
        "linear_reg.fit(x,y)"
      ],
      "metadata": {
        "colab": {
          "base_uri": "https://localhost:8080/"
        },
        "id": "nKH8lzHyKyDa",
        "outputId": "92951611-77e6-4bdb-cd62-bbb1e2cf9636"
      },
      "execution_count": 48,
      "outputs": [
        {
          "output_type": "execute_result",
          "data": {
            "text/plain": [
              "LinearRegression()"
            ]
          },
          "metadata": {},
          "execution_count": 48
        }
      ]
    },
    {
      "cell_type": "code",
      "source": [
        "#polinomsal Regresyon modeli eğitimi\n",
        "polinom_regresyon = PolynomialFeatures(degree = 2) #2.dereceden polinom\n",
        "\n",
        "x_polinom = polinom_regresyon.fit_transform(x)\n",
        "\n",
        "# %% polinomsal regresyon eğitebilmek için polinomsal özellikler ile \n",
        "poly_reg = LinearRegression()\n",
        "poly_reg.fit(x_polinom, y)"
      ],
      "metadata": {
        "colab": {
          "base_uri": "https://localhost:8080/"
        },
        "id": "XrCq4dRq1304",
        "outputId": "35b68cf6-fa8f-4061-d86f-e999ec565a31"
      },
      "execution_count": 49,
      "outputs": [
        {
          "output_type": "execute_result",
          "data": {
            "text/plain": [
              "LinearRegression()"
            ]
          },
          "metadata": {},
          "execution_count": 49
        }
      ]
    },
    {
      "cell_type": "code",
      "source": [
        "#test\n",
        "y_tahmin_linear = linear_reg.predict(x)\n",
        "y_tahmin_poly = poly_reg.predict(x_polinom)\n",
        "\n",
        "plt.scatter(df.deneyim,df.maas)\n",
        "plt.plot(x, y_tahmin_linear,color = \"red\", label = \"Doğrusal\")\n",
        "plt.scatter(x, y_tahmin_poly,color = \"green\", label =\"Polinomsal\")\n",
        "plt.xlabel(\"Deneyim (Yıl)\")\n",
        "plt.ylabel(\"Maaş (TL)\")\n",
        "plt.title(\"Deneyim Maaş İlişkisi\")\n",
        "plt.grid(True)\n",
        "plt.show()"
      ],
      "metadata": {
        "colab": {
          "base_uri": "https://localhost:8080/",
          "height": 296
        },
        "id": "oLb8DmEP13-l",
        "outputId": "e337f2e4-056a-4055-edf0-643652541814"
      },
      "execution_count": 50,
      "outputs": [
        {
          "output_type": "display_data",
          "data": {
            "text/plain": [
              "<Figure size 432x288 with 1 Axes>"
            ],
            "image/png": "[encoded data removed]"
          },
          "metadata": {
            "needs_background": "light"
          }
        }
      ]
    },
    {
      "cell_type": "code",
      "source": [
        "print(\"Doğrusal Regresyon R kare:{} \", r2_score(y,y_tahmin_linear))\n",
        "print(\"Polinomsal Regresyon R kare:{}\", r2_score(y,y_tahmin_poly))"
      ],
      "metadata": {
        "colab": {
          "base_uri": "https://localhost:8080/"
        },
        "id": "YrJZ4Ha_6RrI",
        "outputId": "f9039518-833a-4723-ee9b-911437387e6f"
      },
      "execution_count": 51,
      "outputs": [
        {
          "output_type": "stream",
          "name": "stdout",
          "text": [
            "Doğrusal Regresyon R kare:{}  0.9775283164949903\n",
            "Polinomsal Regresyon R kare:{} 0.9854449464578782\n"
          ]
        }
      ]
    },
    {
      "cell_type": "code",
      "source": [
        "#SINIFLANDIRMA"
      ],
      "metadata": {
        "id": "kI7fLIew14An"
      },
      "execution_count": 52,
      "outputs": []
    },
    {
      "cell_type": "code",
      "source": [
        "#Kütüphaneyi içe aktar\n",
        "import numpy as np\n",
        "import pandas as pd\n",
        "import matplotlib.pyplot as plt\n",
        "import seaborn as sns\n",
        "\n",
        "#uyarıları kapat\n",
        "import warnings\n",
        "warnings.filterwarnings(\"ignore\")"
      ],
      "metadata": {
        "id": "EFPxxJ-l14DA"
      },
      "execution_count": 53,
      "outputs": []
    },
    {
      "cell_type": "code",
      "source": [
        "#veriyi içe aktar \n",
        "df =pd.read_csv(\"ortopedik_hastaların_biyomekanik_özellikleri.csv\")\n",
        "df.head()"
      ],
      "metadata": {
        "colab": {
          "base_uri": "https://localhost:8080/",
          "height": 287
        },
        "id": "wNYIivWU14GG",
        "outputId": "27c53f3d-6a8a-48b3-9851-26d05dc3f43e"
      },
      "execution_count": 54,
      "outputs": [
        {
          "output_type": "execute_result",
          "data": {
            "text/plain": [
              "   pelvic_incidence  pelvic_tilt numeric  lumbar_lordosis_angle  sacral_slope  \\\n",
              "0         63.027817            22.552586              39.609117     40.475232   \n",
              "1         39.056951            10.060991              25.015378     28.995960   \n",
              "2         68.832021            22.218482              50.092194     46.613539   \n",
              "3         69.297008            24.652878              44.311238     44.644130   \n",
              "4         49.712859             9.652075              28.317406     40.060784   \n",
              "\n",
              "   pelvic_radius  degree_spondylolisthesis     class  \n",
              "0      98.672917                 -0.254400  Abnormal  \n",
              "1     114.405425                  4.564259  Abnormal  \n",
              "2     105.985135                 -3.530317  Abnormal  \n",
              "3     101.868495                 11.211523  Abnormal  \n",
              "4     108.168725                  7.918501  Abnormal  "
            ],
            "text/html": [
              "\n",
              "  <div id=\"df-2a6ed523-4fa1-4212-8c88-29381ef7739b\">\n",
              "    <div class=\"colab-df-container\">\n",
              "      <div>\n",
              "<style scoped>\n",
              "    .dataframe tbody tr th:only-of-type {\n",
              "        vertical-align: middle;\n",
              "    }\n",
              "\n",
              "    .dataframe tbody tr th {\n",
              "        vertical-align: top;\n",
              "    }\n",
              "\n",
              "    .dataframe thead th {\n",
              "        text-align: right;\n",
              "    }\n",
              "</style>\n",
              "<table border=\"1\" class=\"dataframe\">\n",
              "  <thead>\n",
              "    <tr style=\"text-align: right;\">\n",
              "      <th></th>\n",
              "      <th>pelvic_incidence</th>\n",
              "      <th>pelvic_tilt numeric</th>\n",
              "      <th>lumbar_lordosis_angle</th>\n",
              "      <th>sacral_slope</th>\n",
              "      <th>pelvic_radius</th>\n",
              "      <th>degree_spondylolisthesis</th>\n",
              "      <th>class</th>\n",
              "    </tr>\n",
              "  </thead>\n",
              "  <tbody>\n",
              "    <tr>\n",
              "      <th>0</th>\n",
              "      <td>63.027817</td>\n",
              "      <td>22.552586</td>\n",
              "      <td>39.609117</td>\n",
              "      <td>40.475232</td>\n",
              "      <td>98.672917</td>\n",
              "      <td>-0.254400</td>\n",
              "      <td>Abnormal</td>\n",
              "    </tr>\n",
              "    <tr>\n",
              "      <th>1</th>\n",
              "      <td>39.056951</td>\n",
              "      <td>10.060991</td>\n",
              "      <td>25.015378</td>\n",
              "      <td>28.995960</td>\n",
              "      <td>114.405425</td>\n",
              "      <td>4.564259</td>\n",
              "      <td>Abnormal</td>\n",
              "    </tr>\n",
              "    <tr>\n",
              "      <th>2</th>\n",
              "      <td>68.832021</td>\n",
              "      <td>22.218482</td>\n",
              "      <td>50.092194</td>\n",
              "      <td>46.613539</td>\n",
              "      <td>105.985135</td>\n",
              "      <td>-3.530317</td>\n",
              "      <td>Abnormal</td>\n",
              "    </tr>\n",
              "    <tr>\n",
              "      <th>3</th>\n",
              "      <td>69.297008</td>\n",
              "      <td>24.652878</td>\n",
              "      <td>44.311238</td>\n",
              "      <td>44.644130</td>\n",
              "      <td>101.868495</td>\n",
              "      <td>11.211523</td>\n",
              "      <td>Abnormal</td>\n",
              "    </tr>\n",
              "    <tr>\n",
              "      <th>4</th>\n",
              "      <td>49.712859</td>\n",
              "      <td>9.652075</td>\n",
              "      <td>28.317406</td>\n",
              "      <td>40.060784</td>\n",
              "      <td>108.168725</td>\n",
              "      <td>7.918501</td>\n",
              "      <td>Abnormal</td>\n",
              "    </tr>\n",
              "  </tbody>\n",
              "</table>\n",
              "</div>\n",
              "      <button class=\"colab-df-convert\" onclick=\"convertToInteractive('df-2a6ed523-4fa1-4212-8c88-29381ef7739b')\"\n",
              "              title=\"Convert this dataframe to an interactive table.\"\n",
              "              style=\"display:none;\">\n",
              "        \n",
              "  <svg xmlns=\"http://www.w3.org/2000/svg\" height=\"24px\"viewBox=\"0 0 24 24\"\n",
              "       width=\"24px\">\n",
              "    <path d=\"M0 0h24v24H0V0z\" fill=\"none\"/>\n",
              "    <path d=\"M18.56 5.44l.94 2.06.94-2.06 2.06-.94-2.06-.94-.94-2.06-.94 2.06-2.06.94zm-11 1L8.5 8.5l.94-2.06 2.06-.94-2.06-.94L8.5 2.5l-.94 2.06-2.06.94zm10 10l.94 2.06.94-2.06 2.06-.94-2.06-.94-.94-2.06-.94 2.06-2.06.94z\"/><path d=\"M17.41 7.96l-1.37-1.37c-.4-.4-.92-.59-1.43-.59-.52 0-1.04.2-1.43.59L10.3 9.45l-7.72 7.72c-.78.78-.78 2.05 0 2.83L4 21.41c.39.39.9.59 1.41.59.51 0 1.02-.2 1.41-.59l7.78-7.78 2.81-2.81c.8-.78.8-2.07 0-2.86zM5.41 20L4 18.59l7.72-7.72 1.47 1.35L5.41 20z\"/>\n",
              "  </svg>\n",
              "      </button>\n",
              "      \n",
              "  <style>\n",
              "    .colab-df-container {\n",
              "      display:flex;\n",
              "      flex-wrap:wrap;\n",
              "      gap: 12px;\n",
              "    }\n",
              "\n",
              "    .colab-df-convert {\n",
              "      background-color: #E8F0FE;\n",
              "      border: none;\n",
              "      border-radius: 50%;\n",
              "      cursor: pointer;\n",
              "      display: none;\n",
              "      fill: #1967D2;\n",
              "      height: 32px;\n",
              "      padding: 0 0 0 0;\n",
              "      width: 32px;\n",
              "    }\n",
              "\n",
              "    .colab-df-convert:hover {\n",
              "      background-color: #E2EBFA;\n",
              "      box-shadow: 0px 1px 2px rgba(60, 64, 67, 0.3), 0px 1px 3px 1px rgba(60, 64, 67, 0.15);\n",
              "      fill: #174EA6;\n",
              "    }\n",
              "\n",
              "    [theme=dark] .colab-df-convert {\n",
              "      background-color: #3B4455;\n",
              "      fill: #D2E3FC;\n",
              "    }\n",
              "\n",
              "    [theme=dark] .colab-df-convert:hover {\n",
              "      background-color: #434B5C;\n",
              "      box-shadow: 0px 1px 3px 1px rgba(0, 0, 0, 0.15);\n",
              "      filter: drop-shadow(0px 1px 2px rgba(0, 0, 0, 0.3));\n",
              "      fill: #FFFFFF;\n",
              "    }\n",
              "  </style>\n",
              "\n",
              "      <script>\n",
              "        const buttonEl =\n",
              "          document.querySelector('#df-2a6ed523-4fa1-4212-8c88-29381ef7739b button.colab-df-convert');\n",
              "        buttonEl.style.display =\n",
              "          google.colab.kernel.accessAllowed ? 'block' : 'none';\n",
              "\n",
              "        async function convertToInteractive(key) {\n",
              "          const element = document.querySelector('#df-2a6ed523-4fa1-4212-8c88-29381ef7739b');\n",
              "          const dataTable =\n",
              "            await google.colab.kernel.invokeFunction('convertToInteractive',\n",
              "                                                     [key], {});\n",
              "          if (!dataTable) return;\n",
              "\n",
              "          const docLinkHtml = 'Like what you see? Visit the ' +\n",
              "            '<a target=\"_blank\" href=https://colab.research.google.com/notebooks/data_table.ipynb>data table notebook</a>'\n",
              "            + ' to learn more about interactive tables.';\n",
              "          element.innerHTML = '';\n",
              "          dataTable['output_type'] = 'display_data';\n",
              "          await google.colab.output.renderOutput(dataTable, element);\n",
              "          const docLink = document.createElement('div');\n",
              "          docLink.innerHTML = docLinkHtml;\n",
              "          element.appendChild(docLink);\n",
              "        }\n",
              "      </script>\n",
              "    </div>\n",
              "  </div>\n",
              "  "
            ]
          },
          "metadata": {},
          "execution_count": 54
        }
      ]
    },
    {
      "cell_type": "code",
      "source": [],
      "metadata": {
        "id": "KVOgYMFG9NUl"
      },
      "execution_count": 59,
      "outputs": []
    },
    {
      "cell_type": "code",
      "source": [],
      "metadata": {
        "id": "egXghOZb9Nd_"
      },
      "execution_count": 55,
      "outputs": []
    },
    {
      "cell_type": "code",
      "source": [],
      "metadata": {
        "id": "koVpaYZb9Ngf"
      },
      "execution_count": 55,
      "outputs": []
    },
    {
      "cell_type": "code",
      "source": [],
      "metadata": {
        "id": "B-a31yIV9Ni1"
      },
      "execution_count": 55,
      "outputs": []
    },
    {
      "cell_type": "code",
      "source": [],
      "metadata": {
        "id": "CXEaCmMK9Nk0"
      },
      "execution_count": 55,
      "outputs": []
    },
    {
      "cell_type": "code",
      "source": [],
      "metadata": {
        "id": "_4ANoGfd9Nm1"
      },
      "execution_count": 55,
      "outputs": []
    },
    {
      "cell_type": "code",
      "source": [],
      "metadata": {
        "id": "utcAsyPe9NqN"
      },
      "execution_count": 55,
      "outputs": []
    }
  ]
}